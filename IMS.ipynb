{
  "nbformat": 4,
  "nbformat_minor": 0,
  "metadata": {
    "colab": {
      "name": "IMS.ipynb",
      "provenance": []
    },
    "kernelspec": {
      "name": "python3",
      "display_name": "Python 3"
    },
    "language_info": {
      "name": "python"
    }
  },
  "cells": [
    {
      "cell_type": "code",
      "metadata": {
        "id": "Os9olHDUpH6i"
      },
      "source": [
        "dict = [\n",
        "    {\"no\":1 , \"name\" : \"Bournvita C\", \"quantity\" : 200, \"price\" : 10, \"discount\" : 5},\n",
        "    {\"no\":2 , \"name\" : \"Bournvita B\", \"quantity\" : 100, \"price\" : 10, \"discount\" : 2},\n",
        "    {\"no\":3 , \"name\" : \"5 star\", \"quantity\" : 100, \"price\" : 15, \"discount\" : 5},\n",
        "    {\"no\":4 , \"name\" : \"Bournville\", \"quantity\" : 200, \"price\" : 20, \"discount\" : 5},\n",
        "    {\"no\":5 , \"name\" : \"Cadbury silk\", \"quantity\" : 100, \"price\" : 25, \"discount\" : 5},\n",
        "    {\"no\":6 , \"name\" : \"Chocopie\", \"quantity\" : 200, \"price\" : 10, \"discount\" : 2 , \"name\" : \"Bournvita B\", \"quantity\" : 100, \"price\" : 10, \"discount\" : 2},\n",
        "    {\"no\":2 , \"name\" : \"Bournvita B\", \"quantity\" : 100, \"price\" : 10, \"discount\" : 2},\n",
        "    {\"no\":3 , \"name\" : \"5 star\", \"quantity\" : 100, \"price\" : 15, \"discount\" : 5},\n",
        "    {\"no\":4 , \"name\" : \"Bournville\", \"quantity\" : 200, \"price\" : 20, \"discount\" : 5},\n",
        "    {\"no\":5 , \"name\" : \"Cadbury silk\", \"quantity\" : 100, \"price\" : 25, \"discount\" : 5},\n",
        "    {\"no\":6 , \"name\" : \"Chocopie\", \"quantity\" : 200, \"price\" : 10, \"discount\" : 2},\n",
        "    {\"no\":7 , \"name\" : \"Diary milk gems\", \"quantity\" : 200, \"price\" : 25, \"discount\" : 5},\n",
        "    {\"no\":8 , \"name\" : \"Jewels\", \"quantity\" : 100, \"price\" : 10, \"discount\" : 2},\n",
        "    {\"no\":9 , \"name\" : \"Kitkat\", \"quantity\" : 100, \"price\" : 15, \"discount\" : 5},\n",
        "    {\"no\":10 , \"name\" : \"Bounty\", \"quantity\" : 200, \"price\" : 10, \"discount\" : 2},\n",
        "    {\"no\":11 , \"name\" : \"Mars\", \"quantity\" : 150, \"price\" : 15, \"discount\" : 5},\n",
        "    {\"no\":12 , \"name\" : \"Vita\", \"quantity\" : 100, \"price\" : 10, \"discount\" : 2},\n",
        "    {\"no\":13 , \"name\" : \"Starberg\", \"quantity\" : 100, \"price\" : 15, \"discount\" : 5},\n",
        "    {\"no\":14 , \"name\" : \"Bisci\", \"quantity\" : 300, \"price\" : 10, \"discount\" : 2},\n",
        "    {\"no\":15 , \"name\" : \"Villy\", \"quantity\" : 300, \"price\" : 25, \"discount\" : 5},\n",
        "    {\"no\":16 , \"name\" : \"Coca\", \"quantity\" : 200, \"price\" : 20, \"discount\" : 5},\n",
        "    {\"no\":17 , \"name\" : \"Gems\", \"quantity\" : 100, \"price\" : 15, \"discount\" : 5},\n",
        "    {\"no\":18 , \"name\" : \"Foodcoco\", \"quantity\" : 100, \"price\" : 10, \"discount\" : 2},\n",
        "    {\"no\":19 , \"name\" : \"Ferrero Rocher\", \"quantity\" : 200, \"price\" : 15, \"discount\" : 5},\n",
        "    {\"no\":20 , \"name\" : \"Rafaelo\", \"quantity\" : 100, \"price\" : 10, \"discount\" : 2},\n",
        "    {\"no\":21 , \"name\" : \"Roseburg\", \"quantity\" : 200, \"price\" : 35, \"discount\" : 5},\n",
        "    {\"no\":22 , \"name\" : \"Cuts\", \"quantity\" : 105, \"price\" : 10, \"discount\" : 2},\n",
        "    {\"no\":23 , \"name\" : \"Bytes\", \"quantity\" : 130, \"price\" : 35, \"discount\" : 10},\n",
        "    {\"no\":24 , \"name\" : \"Jasmine\", \"quantity\" : 120, \"price\" : 30, \"discount\" : 2},\n",
        "    {\"no\":25 , \"name\" : \"Lili\", \"quantity\" : 300, \"price\" : 115, \"discount\" : 15},\n",
        "    {\"no\":26 , \"name\" : \"Almond dessert\", \"quantity\" : 100, \"price\" : 20, \"discount\" : 5},\n",
        "    {\"no\":27 , \"name\" : \"Raisins\", \"quantity\" : 200, \"price\" : 25, \"discount\" : 5},\n",
        "    {\"no\":28 , \"name\" : \"Cadbury flake\", \"quantity\" : 150, \"price\" : 20, \"discount\" : 2},\n",
        "    {\"no\":29 , \"name\" : \"Flakes\", \"quantity\" : 100, \"price\" : 15, \"discount\" : 5},\n",
        "    {\"no\":30 , \"name\" : \"Vanilla\", \"quantity\" : 150, \"price\" : 20, \"discount\" : 5},\n",
        "\n",
        "]"
      ],
      "execution_count": 1,
      "outputs": []
    },
    {
      "cell_type": "code",
      "metadata": {
        "id": "V_-uh41RyKGP"
      },
      "source": [
        "import csv"
      ],
      "execution_count": 2,
      "outputs": []
    },
    {
      "cell_type": "code",
      "metadata": {
        "id": "AzBjIMhHyZ8M"
      },
      "source": [
        "def write_csv(data):\n",
        "  with open('mycsv.csv', 'a') as file:\n",
        "    writer = csv.writer(file)\n",
        "\n",
        "    writer.writerow( [data['name'],data['quantity'],data['price'], data['discount']])"
      ],
      "execution_count": 3,
      "outputs": []
    },
    {
      "cell_type": "code",
      "metadata": {
        "id": "dTKCVQjo0X1Q"
      },
      "source": [
        "for i in range(1,30):\n",
        "  write_csv(dict[i])"
      ],
      "execution_count": 4,
      "outputs": []
    },
    {
      "cell_type": "code",
      "metadata": {
        "id": "v1BLX8As9Bz4"
      },
      "source": [
        "import json\n",
        "js = json.dumps(dict)"
      ],
      "execution_count": 5,
      "outputs": []
    },
    {
      "cell_type": "code",
      "metadata": {
        "id": "7-fzDYWS9na5"
      },
      "source": [
        "fd = open(\"record.json\", \"w\")\n",
        "fd.write(js)\n",
        "fd.close()"
      ],
      "execution_count": 6,
      "outputs": []
    },
    {
      "cell_type": "code",
      "metadata": {
        "id": "bJkIjYe19uln"
      },
      "source": [
        "fd = open(\"record.json\", \"r\")\n",
        "txt = fd.read()\n",
        "fd.close()"
      ],
      "execution_count": 7,
      "outputs": []
    },
    {
      "cell_type": "code",
      "metadata": {
        "id": "9gPbOwic93IM"
      },
      "source": [
        "record = json.loads(txt)"
      ],
      "execution_count": 8,
      "outputs": []
    },
    {
      "cell_type": "code",
      "metadata": {
        "colab": {
          "base_uri": "https://localhost:8080/"
        },
        "id": "dIggR5y09_C8",
        "outputId": "2aff5275-7e0b-41c8-f14a-848933d4d8bd"
      },
      "source": [
        "record"
      ],
      "execution_count": 9,
      "outputs": [
        {
          "output_type": "execute_result",
          "data": {
            "text/plain": [
              "[{'discount': 5, 'name': 'Bournvita C', 'no': 1, 'price': 10, 'quantity': 200},\n",
              " {'discount': 2, 'name': 'Bournvita B', 'no': 2, 'price': 10, 'quantity': 100},\n",
              " {'discount': 5, 'name': '5 star', 'no': 3, 'price': 15, 'quantity': 100},\n",
              " {'discount': 5, 'name': 'Bournville', 'no': 4, 'price': 20, 'quantity': 200},\n",
              " {'discount': 5,\n",
              "  'name': 'Cadbury silk',\n",
              "  'no': 5,\n",
              "  'price': 25,\n",
              "  'quantity': 100},\n",
              " {'discount': 2, 'name': 'Bournvita B', 'no': 6, 'price': 10, 'quantity': 100},\n",
              " {'discount': 2, 'name': 'Bournvita B', 'no': 2, 'price': 10, 'quantity': 100},\n",
              " {'discount': 5, 'name': '5 star', 'no': 3, 'price': 15, 'quantity': 100},\n",
              " {'discount': 5, 'name': 'Bournville', 'no': 4, 'price': 20, 'quantity': 200},\n",
              " {'discount': 5,\n",
              "  'name': 'Cadbury silk',\n",
              "  'no': 5,\n",
              "  'price': 25,\n",
              "  'quantity': 100},\n",
              " {'discount': 2, 'name': 'Chocopie', 'no': 6, 'price': 10, 'quantity': 200},\n",
              " {'discount': 5,\n",
              "  'name': 'Diary milk gems',\n",
              "  'no': 7,\n",
              "  'price': 25,\n",
              "  'quantity': 200},\n",
              " {'discount': 2, 'name': 'Jewels', 'no': 8, 'price': 10, 'quantity': 100},\n",
              " {'discount': 5, 'name': 'Kitkat', 'no': 9, 'price': 15, 'quantity': 100},\n",
              " {'discount': 2, 'name': 'Bounty', 'no': 10, 'price': 10, 'quantity': 200},\n",
              " {'discount': 5, 'name': 'Mars', 'no': 11, 'price': 15, 'quantity': 150},\n",
              " {'discount': 2, 'name': 'Vita', 'no': 12, 'price': 10, 'quantity': 100},\n",
              " {'discount': 5, 'name': 'Starberg', 'no': 13, 'price': 15, 'quantity': 100},\n",
              " {'discount': 2, 'name': 'Bisci', 'no': 14, 'price': 10, 'quantity': 300},\n",
              " {'discount': 5, 'name': 'Villy', 'no': 15, 'price': 25, 'quantity': 300},\n",
              " {'discount': 5, 'name': 'Coca', 'no': 16, 'price': 20, 'quantity': 200},\n",
              " {'discount': 5, 'name': 'Gems', 'no': 17, 'price': 15, 'quantity': 100},\n",
              " {'discount': 2, 'name': 'Foodcoco', 'no': 18, 'price': 10, 'quantity': 100},\n",
              " {'discount': 5,\n",
              "  'name': 'Ferrero Rocher',\n",
              "  'no': 19,\n",
              "  'price': 15,\n",
              "  'quantity': 200},\n",
              " {'discount': 2, 'name': 'Rafaelo', 'no': 20, 'price': 10, 'quantity': 100},\n",
              " {'discount': 5, 'name': 'Roseburg', 'no': 21, 'price': 35, 'quantity': 200},\n",
              " {'discount': 2, 'name': 'Cuts', 'no': 22, 'price': 10, 'quantity': 105},\n",
              " {'discount': 10, 'name': 'Bytes', 'no': 23, 'price': 35, 'quantity': 130},\n",
              " {'discount': 2, 'name': 'Jasmine', 'no': 24, 'price': 30, 'quantity': 120},\n",
              " {'discount': 15, 'name': 'Lili', 'no': 25, 'price': 115, 'quantity': 300},\n",
              " {'discount': 5,\n",
              "  'name': 'Almond dessert',\n",
              "  'no': 26,\n",
              "  'price': 20,\n",
              "  'quantity': 100},\n",
              " {'discount': 5, 'name': 'Raisins', 'no': 27, 'price': 25, 'quantity': 200},\n",
              " {'discount': 2,\n",
              "  'name': 'Cadbury flake',\n",
              "  'no': 28,\n",
              "  'price': 20,\n",
              "  'quantity': 150},\n",
              " {'discount': 5, 'name': 'Flakes', 'no': 29, 'price': 15, 'quantity': 100},\n",
              " {'discount': 5, 'name': 'Vanilla', 'no': 30, 'price': 20, 'quantity': 150}]"
            ]
          },
          "metadata": {},
          "execution_count": 9
        }
      ]
    },
    {
      "cell_type": "code",
      "metadata": {
        "id": "dXOCxVVu-A3P"
      },
      "source": [
        ""
      ],
      "execution_count": null,
      "outputs": []
    }
  ]
}